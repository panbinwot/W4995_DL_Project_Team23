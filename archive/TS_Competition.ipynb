{
  "nbformat": 4,
  "nbformat_minor": 0,
  "metadata": {
    "colab": {
      "name": "TS_Competition.ipynb",
      "provenance": [],
      "collapsed_sections": []
    },
    "kernelspec": {
      "name": "python3",
      "display_name": "Python 3"
    },
    "accelerator": "GPU"
  },
  "cells": [
    {
      "cell_type": "markdown",
      "execution_count": 0,
      "metadata": {
        "colab": {},
        "colab_type": "code",
        "id": "LOysEJ_pWfRN"
      },
      "outputs": [],
      "source": [
        "## Reload Test Data \n",
        "Re loadd the data we need for the competition. We are using the Makorwiz Max Sharpe ration methods. \n"
      ]
    },
    {
      "cell_type": "code",
      "execution_count": 13,
      "metadata": {},
      "outputs": [
        {
          "name": "stdout",
          "output_type": "stream",
          "text": "A  1 134\nAAL  2 134\nAAP  3 134\nAAPL  4 134\nABBV  5 134\nABC  6 134\nABMD  7 134\nABT  8 134\nACN  9 134\nADBE  10 134\nADI  11 134\nADM  12 134\nADP  13 134\nADS  14 134\nADSK  15 134\nAEE  16 134\nAEP  17 134\nAES  18 134\nAFL  19 134\nAGN  20 134\nAIG  21 134\nAIV  22 134\nAIZ  23 134\nAJG  24 134\nAKAM  25 134\nALB  26 134\nALGN  27 134\nALK  28 134\nALL  29 134\nALLE  30 134\nALXN  31 134\nAMAT  32 134\nAMCR  33 134\nAMD  34 134\nAME  35 134\nAMG  36 134\nAMGN  37 134\nAMP  38 134\nAMT  39 134\nAMZN  40 134\nANET  41 134\nANSS  42 134\nANTM  43 134\nAON  44 134\nAOS  45 134\nAPA  46 134\nAPD  47 134\nAPH  48 134\nAPTV  49 134\nARE  50 134\nARNC  51 134\nATO  52 134\nATVI  53 134\nAVB  54 134\nAVGO  55 134\nAVY  56 134\nAWK  57 134\nAXP  58 134\nAZO  59 134\nBA  60 134\nBAC  61 134\nBAX  62 134\nBBT  63 134\nBBY  64 134\nBDX  65 134\nBEN  66 134\nBF/B  67 Failed\nBIIB  68 134\nBK  69 134\nBKNG  70 134\nBKR  71 84\nBLK  72 134\nBLL  73 134\nBMY  74 134\nBR  75 134\nBRK/B  76 Failed\nBSX  77 134\nBWA  78 134\nBXP  79 134\nC  80 134\nCAG  81 134\nCAH  82 134\nCAT  83 134\nCB  84 134\nCBOE  85 134\nCBRE  86 134\nCBS  87 134\nCCI  88 134\nCCL  89 134\nCDNS  90 134\nCDW  91 134\nCE  92 134\nCELG  93 134\nCERN  94 134\nCF  95 134\nCFG  96 134\nCHD  97 134\nCHRW  98 134\nCHTR  99 134\nCI  100 134\nCINF  101 134\nCL  102 134\nCLX  103 134\nCMA  104 134\nCMCSA  105 134\nCME  106 134\nCMG  107 134\nCMI  108 134\nCMS  109 134\nCNC  110 134\nCNP  111 134\nCOF  112 134\nCOG  113 134\nCOO  114 134\nCOP  115 134\nCOST  116 134\nCOTY  117 134\nCPB  118 134\nCPRI  119 134\nCPRT  120 134\nCRM  121 134\nCSCO  122 134\nCSX  123 134\nCTAS  124 134\nCTL  125 134\nCTSH  126 134\nCTVA  127 0\nCTXS  128 134\nCVS  129 134\nCVX  130 134\nCXO  131 134\nD  132 134\nDAL  133 134\nDD  134 134\nDE  135 134\nDFS  136 134\nDG  137 134\nDGX  138 134\nDHI  139 134\nDHR  140 134\nDIS  141 134\nDISCA  142 134\nDISCK  143 134\nDISH  144 134\nDLR  145 134\nDLTR  146 134\nDOV  147 134\nDOW  148 0\nDRE  149 134\nDRI  150 134\nDTE  151 134\nDUK  152 134\nDVA  153 134\nDVN  154 134\nDXC  155 134\nEA  156 134\nEBAY  157 134\nECL  158 134\nED  159 134\nEFX  160 134\nEIX  161 134\nEL  162 134\nEMN  163 134\nEMR  164 134\nEOG  165 134\nEQIX  166 134\nEQR  167 134\nES  168 134\nESS  169 134\nETFC  170 134\nETN  171 134\nETR  172 134\nEVRG  173 134\nEW  174 134\nEXC  175 134\nEXPD  176 134\nEXPE  177 134\nEXR  178 134\nF  179 134\nFANG  180 134\nFAST  181 134\nFB  182 134\nFBHS  183 134\nFCX  184 134\nFDX  185 134\nFE  186 134\nFFIV  187 134\nFIS  188 134\nFISV  189 134\nFITB  190 134\nFLIR  191 134\nFLS  192 134\nFLT  193 134\nFMC  194 134\nFOX  195 0\nFOXA  196 0\nFRC  197 134\nFRT  198 134\nFTI  199 134\nFTNT  200 134\nFTV  201 134\nGD  202 134\nGE  203 134\nGILD  204 134\nGIS  205 134\nGL  206 134\nGLW  207 134\nGM  208 134\nGOOG  209 134\nGOOGL  210 134\nGPC  211 134\nGPN  212 134\nGPS  213 134\nGRMN  214 134\nGS  215 134\nGWW  216 134\nHAL  217 134\nHAS  218 134\nHBAN  219 134\nHBI  220 134\nHCA  221 134\nHD  222 134\nHES  223 134\nHFC  224 134\nHIG  225 134\nHII  226 134\nHLT  227 134\nHOG  228 134\nHOLX  229 134\nHON  230 134\nHP  231 134\nHPE  232 134\nHPQ  233 134\nHRB  234 134\nHRL  235 134\nHSIC  236 134\nHST  237 134\nHSY  238 134\nHUM  239 134\nIBM  240 134\nICE  241 134\nIDXX  242 134\nIEX  243 134\nIFF  244 134\nILMN  245 134\nINCY  246 134\nINFO  247 134\nINTC  248 134\nINTU  249 134\nIP  250 134\nIPG  251 134\nIPGP  252 134\nIQV  253 134\nIR  254 134\nIRM  255 134\nISRG  256 134\nIT  257 134\nITW  258 134\nIVZ  259 134\nJBHT  260 134\nJCI  261 134\nJEC  262 134\nJKHY  263 134\nJNJ  264 134\nJNPR  265 134\nJPM  266 134\nJWN  267 134\nK  268 134\nKEY  269 134\nKEYS  270 134\nKHC  271 134\nKIM  272 134\nKLAC  273 134\nKMB  274 134\nKMI  275 134\nKMX  276 134\nKO  277 134\nKR  278 134\nKSS  279 134\nKSU  280 134\nL  281 134\nLB  282 134\nLDOS  283 134\nLEG  284 134\nLEN  285 134\nLH  286 134\nLHX  287 134\nLIN  288 134\nLKQ  289 134\nLLY  290 134\nLMT  291 134\nLNC  292 134\nLNT  293 134\nLOW  294 134\nLRCX  295 134\nLUV  296 134\nLVS  297 134\nLW  298 134\nLYB  299 134\nM  300 134\nMA  301 134\nMAA  302 134\nMAC  303 134\nMAR  304 134\nMAS  305 134\nMCD  306 134\nMCHP  307 134\nMCK  308 134\nMCO  309 134\nMDLZ  310 134\nMDT  311 134\nMET  312 134\nMGM  313 134\nMHK  314 134\nMKC  315 134\nMKTX  316 134\nMLM  317 134\nMMC  318 134\nMMM  319 134\nMNST  320 134\nMO  321 134\nMOS  322 134\nMPC  323 134\nMRK  324 134\nMRO  325 134\nMS  326 134\nMSCI  327 134\nMSFT  328 134\nMSI  329 134\nMTB  330 134\nMTD  331 134\nMU  332 134\nMXIM  333 134\nMYL  334 134\nNBL  335 134\nNCLH  336 134\nNDAQ  337 134\nNEE  338 134\nNEM  339 134\nNFLX  340 134\nNI  341 134\nNKE  342 134\nNLOK  343 0\nNLSN  344 134\nNOC  345 134\nNOV  346 134\nNRG  347 134\nNSC  348 134\nNTAP  349 134\nNTRS  350 134\nNUE  351 134\nNVDA  352 134\nNVR  353 134\nNWL  354 134\nNWS  355 134\nNWSA  356 134\nO  357 134\nOKE  358 134\nOMC  359 134\nORCL  360 134\nORLY  361 134\nOXY  362 134\nPAYX  363 134\nPBCT  364 134\nPCAR  365 134\nPEAK  366 134\nPEG  367 134\nPEP  368 134\nPFE  369 134\nPFG  370 134\nPG  371 134\nPGR  372 134\nPH  373 134\nPHM  374 134\nPKG  375 134\nPKI  376 134\nPLD  377 134\nPM  378 134\nPNC  379 134\nPNR  380 134\nPNW  381 134\nPPG  382 134\nPPL  383 134\nPRGO  384 134\nPRU  385 134\nPSA  386 134\nPSX  387 134\nPVH  388 134\nPWR  389 134\nPXD  390 134\nPYPL  391 134\nQCOM  392 134\nQRVO  393 134\nRCL  394 134\nRE  395 134\nREG  396 134\nREGN  397 134\nRF  398 134\nRHI  399 134\nRJF  400 134\nRL  401 134\nRMD  402 134\nROK  403 134\nROL  404 134\nROP  405 134\nROST  406 134\nRSG  407 134\nRTN  408 134\nSBAC  409 134\nSBUX  410 134\nSCHW  411 134\nSEE  412 134\nSHW  413 134\nSIVB  414 134\nSJM  415 134\nSLB  416 134\nSLG  417 134\nSNA  418 134\nSNPS  419 134\nSO  420 134\nSPG  421 134\nSPGI  422 134\nSRE  423 134\nSTI  424 134\nSTT  425 134\nSTX  426 134\nSTZ  427 134\nSWK  428 134\nSWKS  429 134\nSYF  430 134\nSYK  431 134\nSYY  432 134\nT  433 134\nTAP  434 134\nTDG  435 134\nTEL  436 134\nTFX  437 134\nTGT  438 134\nTIF  439 134\nTJX  440 134\nTMO  441 134\nTMUS  442 134\nTPR  443 134\nTRIP  444 134\nTROW  445 134\nTRV  446 134\nTSCO  447 134\nTSN  448 134\nTTWO  449 134\nTWTR  450 134\nTXN  451 134\nTXT  452 134\nUA  453 134\nUAA  454 134\nUAL  455 134\nUDR  456 134\nUHS  457 134\nULTA  458 134\nUNH  459 134\nUNM  460 134\nUNP  461 134\nUPS  462 134\nURI  463 134\nUSB  464 134\nUTX  465 134\nV  466 134\nVAR  467 134\nVFC  468 134\nVIAB  469 134\nVLO  470 134\nVMC  471 134\nVNO  472 134\nVRSK  473 134\nVRSN  474 134\nVRTX  475 134\nVTR  476 134\nVZ  477 134\nWAB  478 134\nWAT  479 134\nWBA  480 134\nWCG  481 134\nWDC  482 134\nWEC  483 134\nWELL  484 134\nWFC  485 134\nWHR  486 134\nWLTW  487 134\nWM  488 134\nWMB  489 134\nWMT  490 134\nWRK  491 134\nWU  492 134\nWY  493 134\nWYNN  494 134\nXEC  495 134\nXEL  496 134\nXLNX  497 134\nXOM  498 134\nXRAY  499 134\nXRX  500 134\nXYL  501 134\nYUM  502 134\nZBH  503 134\nZION  504 134\nZTS  505 134\n"
        }
      ],
      "source": [
        "import pandas as pd\n",
        "import numpy as np\n",
        "import sys\n",
        "from yahoo_finance_api2 import share\n",
        "from yahoo_finance_api2.exceptions import YahooFinanceError\n",
        "from datetime import datetime\n",
        "\n",
        "# Define the downloader\n",
        "def dataloader(stock_name,\n",
        "              start = '1995-01-01 01:00:00',\n",
        "              end = '2018-12-31 04:00:00',verbose = True):\n",
        "\n",
        "  my_share = share.Share(stock_name)\n",
        "  symbol_data = None\n",
        "\n",
        "  try:\n",
        "      symbol_data = my_share.get_historical(share.PERIOD_TYPE_YEAR,30,\n",
        "                                            share.FREQUENCY_TYPE_DAY,1)\n",
        "      if verbose:\n",
        "        print(stock_name+\" has been downloaded\")\n",
        "      \n",
        "  except YahooFinanceError as e:\n",
        "      print(e.message)\n",
        "      sys.exit(1)\n",
        "  df = pd.DataFrame(symbol_data)\n",
        "  \n",
        "  df['timestamp'] = [datetime.fromtimestamp(t/1000) for t in df['timestamp']]\n",
        "\n",
        "  # test = df[(df['timestamp'] >= '2016-1-1 01:00:00') & (df['timestamp'] <= '2018-12-31 04:00:00')]\n",
        "  return df[(df['timestamp'] >= start) & (df['timestamp'] <= end)]\n",
        "\n",
        "# Running the downloader\n",
        "dat_comp_train = pd.read_csv(\"./data/train.csv\")\n",
        "stock_lst = [s.strip(\"\\n\") for s in list(dat_comp_train.keys() )]\n",
        "stock_lst.pop(0)\n",
        "stock_lst.pop()\n",
        "test = {}\n",
        "for i,stock_name in enumerate(stock_lst,0):\n",
        "    # if i> 2: break\n",
        "    try:\n",
        "        df = dataloader(stock_name,start = '2018-01-01 01:00:00', end = '2018-07-16 04:00:00',verbose = False).copy()\n",
        "        print(stock_name,i+1, len(df))\n",
        "        if len(df) == 134:\n",
        "            test[str(stock_name)] = list(df['close'])\n",
        "    except:\n",
        "        print(stock_name, i+1, \"Failed\")\n",
        "\n",
        "pd.DataFrame(test).to_csv(\"./data/test.csv\", index = False)\n"
      ]
    },
    {
      "cell_type": "markdown",
      "execution_count": 11,
      "metadata": {},
      "outputs": [
        {
          "ename": "SyntaxError",
          "evalue": "invalid syntax (<ipython-input-11-4a26b064335a>, line 1)",
          "output_type": "error",
          "traceback": [
            "\u001b[0;36m  File \u001b[0;32m\"<ipython-input-11-4a26b064335a>\"\u001b[0;36m, line \u001b[0;32m1\u001b[0m\n\u001b[0;31m    The 2<sup>nd</sup> hack: distribute money over all the positive stock on that day and sell short on every stock\u001b[0m\n\u001b[0m        ^\u001b[0m\n\u001b[0;31mSyntaxError\u001b[0m\u001b[0;31m:\u001b[0m invalid syntax\n"
          ]
        }
      ],
      "source": [
        "The 2<sup>nd</sup> hack: distribute money over all the positive stock on that day and sell short on every stock"
      ]
    },
    {
      "cell_type": "code",
      "execution_count": 0,
      "metadata": {
        "colab": {},
        "colab_type": "code",
        "id": "uDbtpT3zERMQ"
      },
      "outputs": [],
      "source": [
        "dat = pd.read_csv(\"./data/test.csv\")\n",
        "target = pd.read_csv(\"./data/sample_submission.csv\")\n",
        "target.drop(columns=['Predicted'], inplace= True)\n",
        "res = ( (dat - dat.shift(periods= 1 , fill_value= 0))/dat )\n",
        "\n",
        "id_lst,pred_lst = [], []\n",
        "\n",
        "for i, row in res.iterrows():\n",
        "    if i == 0: continue\n",
        "    row_lst = list(row)\n",
        "    name_lst = list(row.keys() )\n",
        "\n",
        "    S_pos = sum(r for r in row_lst if r>0)\n",
        "    S_neg = sum(r for r in row_lst if r<0)\n",
        "\n",
        "    id_lst += [str(i-1)+'_'+name for name in name_lst]\n",
        "    pred_lst += [r/S_pos if r >0 else r/abs(S_neg) for r in row_lst]\n",
        "    # pred_lst += [r/S_pos if r >0 else 0 for r in row_lst]\n",
        "target2 = pd.DataFrame({'Id':id_lst, 'Predicted':pred_lst})\n",
        "target = target.merge(target2, on = \"Id\",how = 'left')\n",
        "target.fillna(0, inplace= True)\n",
        "target['Id'] = target['Id'].apply(lambda id: id.split(\" \")[0])\n",
        "target.to_csv(\"submission_2.csv\",index = False)"
      ]
    },
    {
      "cell_type": "markdown",
      "execution_count": null,
      "metadata": {},
      "outputs": [],
      "source": [
        "## Main Methods"
      ]
    },
    {
      "cell_type": "code",
      "execution_count": 14,
      "metadata": {},
      "outputs": [],
      "source": [
        "dat = pd.read_csv(\"./data/test.csv\")"
      ]
    },
    {
      "cell_type": "code",
      "execution_count": 47,
      "metadata": {},
      "outputs": [],
      "source": [
        "import numpy as np\n",
        "from scipy.optimize import minimize\n",
        "import pandas as pd\n",
        "\n",
        "\n",
        "# conic optimization of price change covariance to weights using SLSQP method\n",
        "def optimize(num_stocks, cov, expected_val, bounds):\n",
        "    init_guess = np.ones(num_stocks) * (1.0 / num_stocks)\n",
        "    weights = minimize(lambda w: (np.matmul(w.T,np.matmul(cov,w)) - np.matmul(w.T,expected_val)), init_guess,\n",
        "                       method='SLSQP', options={'disp': False}, constraints=({'type': 'eq', 'fun': lambda w: 1.0 - np.sum(w)}), bounds=bounds)\n",
        "    return weights.x\n",
        "\n",
        "\n",
        "# multiprocessing approach to optimization (each row takes 30 seconds to optimize, so multithreading is crucial)\n",
        "# modifies w_ret\n",
        "def handle_optimization(i, bounds, lookback_window, prices, num_stocks, num_days):\n",
        "    # get lookback of k days from real prices and lookahead of 1\n",
        "    train = prices.iloc[i-(lookback_window-1):i+1]\n",
        "    print(train.shape)\n",
        "    print(\"optimizing row {}/{}...\".format(i-(lookback_window-1), num_days - (lookback_window-1)))\n",
        "    cov = train.cov()\n",
        "    expected_val = train.mean()\n",
        "    test = optimize(num_stocks, cov.values, expected_val, bounds)\n",
        "    return (i-(lookback_window-1), test)\n"
      ]
    },
    {
      "cell_type": "code",
      "execution_count": 48,
      "metadata": {},
      "outputs": [],
      "source": [
        "# input_path = 'results.csv' # full path to price change csv\n",
        "input_path = './data/test.csv' # full path to price change csv\n",
        "output_path = 'weights.csv' # full output path for weights csv\n",
        "weight_min = -0.5 # minimum weights range bound\n",
        "weight_max = 2 # maximum weights range bound\n",
        "lookback_window = 5 # lookback window in days for optimization\n",
        "num_threads = 4 # number of concurrent threads to use (upper bounded by available cpus)\n",
        "target_days = 30 # number of desired output rows"
      ]
    },
    {
      "cell_type": "code",
      "execution_count": 50,
      "metadata": {},
      "outputs": [
        {
          "ename": "KeyError",
          "evalue": "-34",
          "output_type": "error",
          "traceback": [
            "\u001b[0;31m---------------------------------------------------------------------------\u001b[0m",
            "\u001b[0;31mValueError\u001b[0m                                Traceback (most recent call last)",
            "\u001b[0;32m/Library/Frameworks/Python.framework/Versions/3.7/lib/python3.7/site-packages/pandas/core/indexes/base.py\u001b[0m in \u001b[0;36mget_slice_bound\u001b[0;34m(self, label, side, kind)\u001b[0m\n\u001b[1;32m   5166\u001b[0m             \u001b[0;32mtry\u001b[0m\u001b[0;34m:\u001b[0m\u001b[0;34m\u001b[0m\u001b[0;34m\u001b[0m\u001b[0m\n\u001b[0;32m-> 5167\u001b[0;31m                 \u001b[0;32mreturn\u001b[0m \u001b[0mself\u001b[0m\u001b[0;34m.\u001b[0m\u001b[0m_searchsorted_monotonic\u001b[0m\u001b[0;34m(\u001b[0m\u001b[0mlabel\u001b[0m\u001b[0;34m,\u001b[0m \u001b[0mside\u001b[0m\u001b[0;34m)\u001b[0m\u001b[0;34m\u001b[0m\u001b[0;34m\u001b[0m\u001b[0m\n\u001b[0m\u001b[1;32m   5168\u001b[0m             \u001b[0;32mexcept\u001b[0m \u001b[0mValueError\u001b[0m\u001b[0;34m:\u001b[0m\u001b[0;34m\u001b[0m\u001b[0;34m\u001b[0m\u001b[0m\n",
            "\u001b[0;32m/Library/Frameworks/Python.framework/Versions/3.7/lib/python3.7/site-packages/pandas/core/indexes/base.py\u001b[0m in \u001b[0;36m_searchsorted_monotonic\u001b[0;34m(self, label, side)\u001b[0m\n\u001b[1;32m   5127\u001b[0m \u001b[0;34m\u001b[0m\u001b[0m\n\u001b[0;32m-> 5128\u001b[0;31m         \u001b[0;32mraise\u001b[0m \u001b[0mValueError\u001b[0m\u001b[0;34m(\u001b[0m\u001b[0;34m\"index must be monotonic increasing or decreasing\"\u001b[0m\u001b[0;34m)\u001b[0m\u001b[0;34m\u001b[0m\u001b[0;34m\u001b[0m\u001b[0m\n\u001b[0m\u001b[1;32m   5129\u001b[0m \u001b[0;34m\u001b[0m\u001b[0m\n",
            "\u001b[0;31mValueError\u001b[0m: index must be monotonic increasing or decreasing",
            "\nDuring handling of the above exception, another exception occurred:\n",
            "\u001b[0;31mKeyError\u001b[0m                                  Traceback (most recent call last)",
            "\u001b[0;32m<ipython-input-50-6452343139aa>\u001b[0m in \u001b[0;36m<module>\u001b[0;34m\u001b[0m\n\u001b[1;32m     17\u001b[0m \u001b[0;34m\u001b[0m\u001b[0m\n\u001b[1;32m     18\u001b[0m \u001b[0;31m# consider only final target_days + the lookback window\u001b[0m\u001b[0;34m\u001b[0m\u001b[0;34m\u001b[0m\u001b[0;34m\u001b[0m\u001b[0m\n\u001b[0;32m---> 19\u001b[0;31m \u001b[0mprices\u001b[0m \u001b[0;34m=\u001b[0m \u001b[0mprices\u001b[0m\u001b[0;34m[\u001b[0m\u001b[0;34m-\u001b[0m\u001b[0;34m(\u001b[0m\u001b[0mtarget_days\u001b[0m \u001b[0;34m+\u001b[0m \u001b[0;34m(\u001b[0m\u001b[0mlookback_window\u001b[0m \u001b[0;34m-\u001b[0m \u001b[0;36m1\u001b[0m\u001b[0;34m)\u001b[0m\u001b[0;34m)\u001b[0m\u001b[0;34m:\u001b[0m\u001b[0;34m]\u001b[0m\u001b[0;34m\u001b[0m\u001b[0;34m\u001b[0m\u001b[0m\n\u001b[0m\u001b[1;32m     20\u001b[0m \u001b[0;34m\u001b[0m\u001b[0m\n\u001b[1;32m     21\u001b[0m \u001b[0mnum_days\u001b[0m \u001b[0;34m=\u001b[0m \u001b[0mprices\u001b[0m\u001b[0;34m.\u001b[0m\u001b[0mshape\u001b[0m\u001b[0;34m[\u001b[0m\u001b[0;36m0\u001b[0m\u001b[0;34m]\u001b[0m\u001b[0;34m\u001b[0m\u001b[0;34m\u001b[0m\u001b[0m\n",
            "\u001b[0;32m/Library/Frameworks/Python.framework/Versions/3.7/lib/python3.7/site-packages/pandas/core/frame.py\u001b[0m in \u001b[0;36m__getitem__\u001b[0;34m(self, key)\u001b[0m\n\u001b[1;32m   2959\u001b[0m \u001b[0;34m\u001b[0m\u001b[0m\n\u001b[1;32m   2960\u001b[0m         \u001b[0;31m# Do we have a slicer (on rows)?\u001b[0m\u001b[0;34m\u001b[0m\u001b[0;34m\u001b[0m\u001b[0;34m\u001b[0m\u001b[0m\n\u001b[0;32m-> 2961\u001b[0;31m         \u001b[0mindexer\u001b[0m \u001b[0;34m=\u001b[0m \u001b[0mconvert_to_index_sliceable\u001b[0m\u001b[0;34m(\u001b[0m\u001b[0mself\u001b[0m\u001b[0;34m,\u001b[0m \u001b[0mkey\u001b[0m\u001b[0;34m)\u001b[0m\u001b[0;34m\u001b[0m\u001b[0;34m\u001b[0m\u001b[0m\n\u001b[0m\u001b[1;32m   2962\u001b[0m         \u001b[0;32mif\u001b[0m \u001b[0mindexer\u001b[0m \u001b[0;32mis\u001b[0m \u001b[0;32mnot\u001b[0m \u001b[0;32mNone\u001b[0m\u001b[0;34m:\u001b[0m\u001b[0;34m\u001b[0m\u001b[0;34m\u001b[0m\u001b[0m\n\u001b[1;32m   2963\u001b[0m             \u001b[0;32mreturn\u001b[0m \u001b[0mself\u001b[0m\u001b[0;34m.\u001b[0m\u001b[0m_slice\u001b[0m\u001b[0;34m(\u001b[0m\u001b[0mindexer\u001b[0m\u001b[0;34m,\u001b[0m \u001b[0maxis\u001b[0m\u001b[0;34m=\u001b[0m\u001b[0;36m0\u001b[0m\u001b[0;34m)\u001b[0m\u001b[0;34m\u001b[0m\u001b[0;34m\u001b[0m\u001b[0m\n",
            "\u001b[0;32m/Library/Frameworks/Python.framework/Versions/3.7/lib/python3.7/site-packages/pandas/core/indexing.py\u001b[0m in \u001b[0;36mconvert_to_index_sliceable\u001b[0;34m(obj, key)\u001b[0m\n\u001b[1;32m   2356\u001b[0m     \u001b[0midx\u001b[0m \u001b[0;34m=\u001b[0m \u001b[0mobj\u001b[0m\u001b[0;34m.\u001b[0m\u001b[0mindex\u001b[0m\u001b[0;34m\u001b[0m\u001b[0;34m\u001b[0m\u001b[0m\n\u001b[1;32m   2357\u001b[0m     \u001b[0;32mif\u001b[0m \u001b[0misinstance\u001b[0m\u001b[0;34m(\u001b[0m\u001b[0mkey\u001b[0m\u001b[0;34m,\u001b[0m \u001b[0mslice\u001b[0m\u001b[0;34m)\u001b[0m\u001b[0;34m:\u001b[0m\u001b[0;34m\u001b[0m\u001b[0;34m\u001b[0m\u001b[0m\n\u001b[0;32m-> 2358\u001b[0;31m         \u001b[0;32mreturn\u001b[0m \u001b[0midx\u001b[0m\u001b[0;34m.\u001b[0m\u001b[0m_convert_slice_indexer\u001b[0m\u001b[0;34m(\u001b[0m\u001b[0mkey\u001b[0m\u001b[0;34m,\u001b[0m \u001b[0mkind\u001b[0m\u001b[0;34m=\u001b[0m\u001b[0;34m\"getitem\"\u001b[0m\u001b[0;34m)\u001b[0m\u001b[0;34m\u001b[0m\u001b[0;34m\u001b[0m\u001b[0m\n\u001b[0m\u001b[1;32m   2359\u001b[0m \u001b[0;34m\u001b[0m\u001b[0m\n\u001b[1;32m   2360\u001b[0m     \u001b[0;32melif\u001b[0m \u001b[0misinstance\u001b[0m\u001b[0;34m(\u001b[0m\u001b[0mkey\u001b[0m\u001b[0;34m,\u001b[0m \u001b[0mstr\u001b[0m\u001b[0;34m)\u001b[0m\u001b[0;34m:\u001b[0m\u001b[0;34m\u001b[0m\u001b[0;34m\u001b[0m\u001b[0m\n",
            "\u001b[0;32m/Library/Frameworks/Python.framework/Versions/3.7/lib/python3.7/site-packages/pandas/core/indexes/numeric.py\u001b[0m in \u001b[0;36m_convert_slice_indexer\u001b[0;34m(self, key, kind)\u001b[0m\n\u001b[1;32m    395\u001b[0m \u001b[0;34m\u001b[0m\u001b[0m\n\u001b[1;32m    396\u001b[0m         \u001b[0;31m# translate to locations\u001b[0m\u001b[0;34m\u001b[0m\u001b[0;34m\u001b[0m\u001b[0;34m\u001b[0m\u001b[0m\n\u001b[0;32m--> 397\u001b[0;31m         \u001b[0;32mreturn\u001b[0m \u001b[0mself\u001b[0m\u001b[0;34m.\u001b[0m\u001b[0mslice_indexer\u001b[0m\u001b[0;34m(\u001b[0m\u001b[0mkey\u001b[0m\u001b[0;34m.\u001b[0m\u001b[0mstart\u001b[0m\u001b[0;34m,\u001b[0m \u001b[0mkey\u001b[0m\u001b[0;34m.\u001b[0m\u001b[0mstop\u001b[0m\u001b[0;34m,\u001b[0m \u001b[0mkey\u001b[0m\u001b[0;34m.\u001b[0m\u001b[0mstep\u001b[0m\u001b[0;34m,\u001b[0m \u001b[0mkind\u001b[0m\u001b[0;34m=\u001b[0m\u001b[0mkind\u001b[0m\u001b[0;34m)\u001b[0m\u001b[0;34m\u001b[0m\u001b[0;34m\u001b[0m\u001b[0m\n\u001b[0m\u001b[1;32m    398\u001b[0m \u001b[0;34m\u001b[0m\u001b[0m\n\u001b[1;32m    399\u001b[0m     def _format_native_types(\n",
            "\u001b[0;32m/Library/Frameworks/Python.framework/Versions/3.7/lib/python3.7/site-packages/pandas/core/indexes/base.py\u001b[0m in \u001b[0;36mslice_indexer\u001b[0;34m(self, start, end, step, kind)\u001b[0m\n\u001b[1;32m   5032\u001b[0m         \u001b[0mslice\u001b[0m\u001b[0;34m(\u001b[0m\u001b[0;36m1\u001b[0m\u001b[0;34m,\u001b[0m \u001b[0;36m3\u001b[0m\u001b[0;34m)\u001b[0m\u001b[0;34m\u001b[0m\u001b[0;34m\u001b[0m\u001b[0m\n\u001b[1;32m   5033\u001b[0m         \"\"\"\n\u001b[0;32m-> 5034\u001b[0;31m         \u001b[0mstart_slice\u001b[0m\u001b[0;34m,\u001b[0m \u001b[0mend_slice\u001b[0m \u001b[0;34m=\u001b[0m \u001b[0mself\u001b[0m\u001b[0;34m.\u001b[0m\u001b[0mslice_locs\u001b[0m\u001b[0;34m(\u001b[0m\u001b[0mstart\u001b[0m\u001b[0;34m,\u001b[0m \u001b[0mend\u001b[0m\u001b[0;34m,\u001b[0m \u001b[0mstep\u001b[0m\u001b[0;34m=\u001b[0m\u001b[0mstep\u001b[0m\u001b[0;34m,\u001b[0m \u001b[0mkind\u001b[0m\u001b[0;34m=\u001b[0m\u001b[0mkind\u001b[0m\u001b[0;34m)\u001b[0m\u001b[0;34m\u001b[0m\u001b[0;34m\u001b[0m\u001b[0m\n\u001b[0m\u001b[1;32m   5035\u001b[0m \u001b[0;34m\u001b[0m\u001b[0m\n\u001b[1;32m   5036\u001b[0m         \u001b[0;31m# return a slice\u001b[0m\u001b[0;34m\u001b[0m\u001b[0;34m\u001b[0m\u001b[0;34m\u001b[0m\u001b[0m\n",
            "\u001b[0;32m/Library/Frameworks/Python.framework/Versions/3.7/lib/python3.7/site-packages/pandas/core/indexes/base.py\u001b[0m in \u001b[0;36mslice_locs\u001b[0;34m(self, start, end, step, kind)\u001b[0m\n\u001b[1;32m   5246\u001b[0m         \u001b[0mstart_slice\u001b[0m \u001b[0;34m=\u001b[0m \u001b[0;32mNone\u001b[0m\u001b[0;34m\u001b[0m\u001b[0;34m\u001b[0m\u001b[0m\n\u001b[1;32m   5247\u001b[0m         \u001b[0;32mif\u001b[0m \u001b[0mstart\u001b[0m \u001b[0;32mis\u001b[0m \u001b[0;32mnot\u001b[0m \u001b[0;32mNone\u001b[0m\u001b[0;34m:\u001b[0m\u001b[0;34m\u001b[0m\u001b[0;34m\u001b[0m\u001b[0m\n\u001b[0;32m-> 5248\u001b[0;31m             \u001b[0mstart_slice\u001b[0m \u001b[0;34m=\u001b[0m \u001b[0mself\u001b[0m\u001b[0;34m.\u001b[0m\u001b[0mget_slice_bound\u001b[0m\u001b[0;34m(\u001b[0m\u001b[0mstart\u001b[0m\u001b[0;34m,\u001b[0m \u001b[0;34m\"left\"\u001b[0m\u001b[0;34m,\u001b[0m \u001b[0mkind\u001b[0m\u001b[0;34m)\u001b[0m\u001b[0;34m\u001b[0m\u001b[0;34m\u001b[0m\u001b[0m\n\u001b[0m\u001b[1;32m   5249\u001b[0m         \u001b[0;32mif\u001b[0m \u001b[0mstart_slice\u001b[0m \u001b[0;32mis\u001b[0m \u001b[0;32mNone\u001b[0m\u001b[0;34m:\u001b[0m\u001b[0;34m\u001b[0m\u001b[0;34m\u001b[0m\u001b[0m\n\u001b[1;32m   5250\u001b[0m             \u001b[0mstart_slice\u001b[0m \u001b[0;34m=\u001b[0m \u001b[0;36m0\u001b[0m\u001b[0;34m\u001b[0m\u001b[0;34m\u001b[0m\u001b[0m\n",
            "\u001b[0;32m/Library/Frameworks/Python.framework/Versions/3.7/lib/python3.7/site-packages/pandas/core/indexes/base.py\u001b[0m in \u001b[0;36mget_slice_bound\u001b[0;34m(self, label, side, kind)\u001b[0m\n\u001b[1;32m   5168\u001b[0m             \u001b[0;32mexcept\u001b[0m \u001b[0mValueError\u001b[0m\u001b[0;34m:\u001b[0m\u001b[0;34m\u001b[0m\u001b[0;34m\u001b[0m\u001b[0m\n\u001b[1;32m   5169\u001b[0m                 \u001b[0;31m# raise the original KeyError\u001b[0m\u001b[0;34m\u001b[0m\u001b[0;34m\u001b[0m\u001b[0;34m\u001b[0m\u001b[0m\n\u001b[0;32m-> 5170\u001b[0;31m                 \u001b[0;32mraise\u001b[0m \u001b[0merr\u001b[0m\u001b[0;34m\u001b[0m\u001b[0;34m\u001b[0m\u001b[0m\n\u001b[0m\u001b[1;32m   5171\u001b[0m \u001b[0;34m\u001b[0m\u001b[0m\n\u001b[1;32m   5172\u001b[0m         \u001b[0;32mif\u001b[0m \u001b[0misinstance\u001b[0m\u001b[0;34m(\u001b[0m\u001b[0mslc\u001b[0m\u001b[0;34m,\u001b[0m \u001b[0mnp\u001b[0m\u001b[0;34m.\u001b[0m\u001b[0mndarray\u001b[0m\u001b[0;34m)\u001b[0m\u001b[0;34m:\u001b[0m\u001b[0;34m\u001b[0m\u001b[0;34m\u001b[0m\u001b[0m\n",
            "\u001b[0;32m/Library/Frameworks/Python.framework/Versions/3.7/lib/python3.7/site-packages/pandas/core/indexes/base.py\u001b[0m in \u001b[0;36mget_slice_bound\u001b[0;34m(self, label, side, kind)\u001b[0m\n\u001b[1;32m   5162\u001b[0m         \u001b[0;31m# we need to look up the label\u001b[0m\u001b[0;34m\u001b[0m\u001b[0;34m\u001b[0m\u001b[0;34m\u001b[0m\u001b[0m\n\u001b[1;32m   5163\u001b[0m         \u001b[0;32mtry\u001b[0m\u001b[0;34m:\u001b[0m\u001b[0;34m\u001b[0m\u001b[0;34m\u001b[0m\u001b[0m\n\u001b[0;32m-> 5164\u001b[0;31m             \u001b[0mslc\u001b[0m \u001b[0;34m=\u001b[0m \u001b[0mself\u001b[0m\u001b[0;34m.\u001b[0m\u001b[0mget_loc\u001b[0m\u001b[0;34m(\u001b[0m\u001b[0mlabel\u001b[0m\u001b[0;34m)\u001b[0m\u001b[0;34m\u001b[0m\u001b[0;34m\u001b[0m\u001b[0m\n\u001b[0m\u001b[1;32m   5165\u001b[0m         \u001b[0;32mexcept\u001b[0m \u001b[0mKeyError\u001b[0m \u001b[0;32mas\u001b[0m \u001b[0merr\u001b[0m\u001b[0;34m:\u001b[0m\u001b[0;34m\u001b[0m\u001b[0;34m\u001b[0m\u001b[0m\n\u001b[1;32m   5166\u001b[0m             \u001b[0;32mtry\u001b[0m\u001b[0;34m:\u001b[0m\u001b[0;34m\u001b[0m\u001b[0;34m\u001b[0m\u001b[0m\n",
            "\u001b[0;32m/Library/Frameworks/Python.framework/Versions/3.7/lib/python3.7/site-packages/pandas/core/indexes/numeric.py\u001b[0m in \u001b[0;36mget_loc\u001b[0;34m(self, key, method, tolerance)\u001b[0m\n\u001b[1;32m    477\u001b[0m         \u001b[0;32mexcept\u001b[0m \u001b[0;34m(\u001b[0m\u001b[0mTypeError\u001b[0m\u001b[0;34m,\u001b[0m \u001b[0mNotImplementedError\u001b[0m\u001b[0;34m)\u001b[0m\u001b[0;34m:\u001b[0m\u001b[0;34m\u001b[0m\u001b[0;34m\u001b[0m\u001b[0m\n\u001b[1;32m    478\u001b[0m             \u001b[0;32mpass\u001b[0m\u001b[0;34m\u001b[0m\u001b[0;34m\u001b[0m\u001b[0m\n\u001b[0;32m--> 479\u001b[0;31m         \u001b[0;32mreturn\u001b[0m \u001b[0msuper\u001b[0m\u001b[0;34m(\u001b[0m\u001b[0;34m)\u001b[0m\u001b[0;34m.\u001b[0m\u001b[0mget_loc\u001b[0m\u001b[0;34m(\u001b[0m\u001b[0mkey\u001b[0m\u001b[0;34m,\u001b[0m \u001b[0mmethod\u001b[0m\u001b[0;34m=\u001b[0m\u001b[0mmethod\u001b[0m\u001b[0;34m,\u001b[0m \u001b[0mtolerance\u001b[0m\u001b[0;34m=\u001b[0m\u001b[0mtolerance\u001b[0m\u001b[0;34m)\u001b[0m\u001b[0;34m\u001b[0m\u001b[0;34m\u001b[0m\u001b[0m\n\u001b[0m\u001b[1;32m    480\u001b[0m \u001b[0;34m\u001b[0m\u001b[0m\n\u001b[1;32m    481\u001b[0m     \u001b[0;34m@\u001b[0m\u001b[0mcache_readonly\u001b[0m\u001b[0;34m\u001b[0m\u001b[0;34m\u001b[0m\u001b[0m\n",
            "\u001b[0;32m/Library/Frameworks/Python.framework/Versions/3.7/lib/python3.7/site-packages/pandas/core/indexes/base.py\u001b[0m in \u001b[0;36mget_loc\u001b[0;34m(self, key, method, tolerance)\u001b[0m\n\u001b[1;32m   2897\u001b[0m                 \u001b[0;32mreturn\u001b[0m \u001b[0mself\u001b[0m\u001b[0;34m.\u001b[0m\u001b[0m_engine\u001b[0m\u001b[0;34m.\u001b[0m\u001b[0mget_loc\u001b[0m\u001b[0;34m(\u001b[0m\u001b[0mkey\u001b[0m\u001b[0;34m)\u001b[0m\u001b[0;34m\u001b[0m\u001b[0;34m\u001b[0m\u001b[0m\n\u001b[1;32m   2898\u001b[0m             \u001b[0;32mexcept\u001b[0m \u001b[0mKeyError\u001b[0m\u001b[0;34m:\u001b[0m\u001b[0;34m\u001b[0m\u001b[0;34m\u001b[0m\u001b[0m\n\u001b[0;32m-> 2899\u001b[0;31m                 \u001b[0;32mreturn\u001b[0m \u001b[0mself\u001b[0m\u001b[0;34m.\u001b[0m\u001b[0m_engine\u001b[0m\u001b[0;34m.\u001b[0m\u001b[0mget_loc\u001b[0m\u001b[0;34m(\u001b[0m\u001b[0mself\u001b[0m\u001b[0;34m.\u001b[0m\u001b[0m_maybe_cast_indexer\u001b[0m\u001b[0;34m(\u001b[0m\u001b[0mkey\u001b[0m\u001b[0;34m)\u001b[0m\u001b[0;34m)\u001b[0m\u001b[0;34m\u001b[0m\u001b[0;34m\u001b[0m\u001b[0m\n\u001b[0m\u001b[1;32m   2900\u001b[0m         \u001b[0mindexer\u001b[0m \u001b[0;34m=\u001b[0m \u001b[0mself\u001b[0m\u001b[0;34m.\u001b[0m\u001b[0mget_indexer\u001b[0m\u001b[0;34m(\u001b[0m\u001b[0;34m[\u001b[0m\u001b[0mkey\u001b[0m\u001b[0;34m]\u001b[0m\u001b[0;34m,\u001b[0m \u001b[0mmethod\u001b[0m\u001b[0;34m=\u001b[0m\u001b[0mmethod\u001b[0m\u001b[0;34m,\u001b[0m \u001b[0mtolerance\u001b[0m\u001b[0;34m=\u001b[0m\u001b[0mtolerance\u001b[0m\u001b[0;34m)\u001b[0m\u001b[0;34m\u001b[0m\u001b[0;34m\u001b[0m\u001b[0m\n\u001b[1;32m   2901\u001b[0m         \u001b[0;32mif\u001b[0m \u001b[0mindexer\u001b[0m\u001b[0;34m.\u001b[0m\u001b[0mndim\u001b[0m \u001b[0;34m>\u001b[0m \u001b[0;36m1\u001b[0m \u001b[0;32mor\u001b[0m \u001b[0mindexer\u001b[0m\u001b[0;34m.\u001b[0m\u001b[0msize\u001b[0m \u001b[0;34m>\u001b[0m \u001b[0;36m1\u001b[0m\u001b[0;34m:\u001b[0m\u001b[0;34m\u001b[0m\u001b[0;34m\u001b[0m\u001b[0m\n",
            "\u001b[0;32mpandas/_libs/index.pyx\u001b[0m in \u001b[0;36mpandas._libs.index.IndexEngine.get_loc\u001b[0;34m()\u001b[0m\n",
            "\u001b[0;32mpandas/_libs/index.pyx\u001b[0m in \u001b[0;36mpandas._libs.index.IndexEngine.get_loc\u001b[0;34m()\u001b[0m\n",
            "\u001b[0;32mpandas/_libs/index.pyx\u001b[0m in \u001b[0;36mpandas._libs.index.IndexEngine._get_loc_duplicates\u001b[0;34m()\u001b[0m\n",
            "\u001b[0;32mpandas/_libs/index_class_helper.pxi\u001b[0m in \u001b[0;36mpandas._libs.index.Float64Engine._maybe_get_bool_indexer\u001b[0;34m()\u001b[0m\n",
            "\u001b[0;31mKeyError\u001b[0m: -34"
          ]
        }
      ],
      "source": [
        "import pandas as pd\n",
        "import numpy as np\n",
        "from scipy.optimize import Bounds\n",
        "from functools import partial\n",
        "import argparse\n",
        "import multiprocessing as mp\n",
        "\n",
        "num_threads = min(num_threads, mp.cpu_count())\n",
        "\n",
        "###\n",
        "# This conic optimizer is used to optimize a matrix of price changes into a matrix of portfolio weights in a range.\n",
        "# We only want to optimize weights for the new predicted days in the conic optimizer.\n",
        "# For each row the optimizer looks at today and a window of k days in the past\n",
        "###\n",
        "\n",
        "prices = pd.read_csv(input_path, index_col=0)\n",
        "\n",
        "# consider only final target_days + the lookback window\n",
        "prices = prices[-(target_days + (lookback_window - 1)):]\n",
        "\n",
        "num_days = prices.shape[0]\n",
        "num_stocks = prices.shape[1]\n",
        "\n",
        "thread_pool = mp.Pool(num_threads) # concurrency\n",
        "\n",
        "w_ret = np.zeros((target_days, prices.shape[1]))\n",
        "print('output shape: {}'.format(w_ret.shape))\n",
        "# bounds for weights. -.5/2 default\n",
        "bounds = Bounds([weight_min]*num_stocks, [weight_max]*num_stocks)\n",
        "\n",
        "# each row can take 30-60 seconds to optimize, so multithreading can be helpful\n",
        "multithread_partial = partial(handle_optimization,\n",
        "        bounds=bounds,\n",
        "        lookback_window=lookback_window,\n",
        "        prices=prices,\n",
        "        num_stocks=num_stocks,\n",
        "        num_days=num_days)\n",
        "\n",
        "optimal_weights_unsorted = thread_pool.map(multithread_partial, range((lookback_window-1), num_days))\n",
        "\n",
        "# realign output into matrix by indices\n",
        "for i, w in sorted(optimal_weights_unsorted, key=lambda pair: pair[0]):\n",
        "    w_ret[i, :] = w\n",
        "\n",
        "print('Saving optimal weights to \"{}\"'.format(output_path))\n",
        "pd.DataFrame(w_ret).to_csv(output_path)"
      ]
    },
    {
      "cell_type": "code",
      "execution_count": null,
      "metadata": {},
      "outputs": [],
      "source": []
    }
  ]
}