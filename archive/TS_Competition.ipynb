{
  "nbformat": 4,
  "nbformat_minor": 0,
  "metadata": {
    "colab": {
      "name": "TS_Competition.ipynb",
      "provenance": [],
      "collapsed_sections": []
    },
    "kernelspec": {
      "name": "python3",
      "display_name": "Python 3"
    },
    "accelerator": "GPU"
  },
  "cells": [
    {
      "cell_type": "markdown",
      "execution_count": 0,
      "metadata": {
        "colab": {},
        "colab_type": "code",
        "id": "LOysEJ_pWfRN"
      },
      "outputs": [],
      "source": [
        "## Reload Test Data \n",
        "Re loadd the data we need for the competition. We are using the Makorwiz Max Sharpe ration methods. \n"
      ]
    },
    {
      "cell_type": "code",
      "execution_count": 13,
      "metadata": {},
      "outputs": [
        {
          "name": "stdout",
          "output_type": "stream",
          "text": "A  1 134\nAAL  2 134\nAAP  3 134\nAAPL  4 134\nABBV  5 134\nABC  6 134\nABMD  7 134\nABT  8 134\nACN  9 134\nADBE  10 134\nADI  11 134\nADM  12 134\nADP  13 134\nADS  14 134\nADSK  15 134\nAEE  16 134\nAEP  17 134\nAES  18 134\nAFL  19 134\nAGN  20 134\nAIG  21 134\nAIV  22 134\nAIZ  23 134\nAJG  24 134\nAKAM  25 134\nALB  26 134\nALGN  27 134\nALK  28 134\nALL  29 134\nALLE  30 134\nALXN  31 134\nAMAT  32 134\nAMCR  33 134\nAMD  34 134\nAME  35 134\nAMG  36 134\nAMGN  37 134\nAMP  38 134\nAMT  39 134\nAMZN  40 134\nANET  41 134\nANSS  42 134\nANTM  43 134\nAON  44 134\nAOS  45 134\nAPA  46 134\nAPD  47 134\nAPH  48 134\nAPTV  49 134\nARE  50 134\nARNC  51 134\nATO  52 134\nATVI  53 134\nAVB  54 134\nAVGO  55 134\nAVY  56 134\nAWK  57 134\nAXP  58 134\nAZO  59 134\nBA  60 134\nBAC  61 134\nBAX  62 134\nBBT  63 134\nBBY  64 134\nBDX  65 134\nBEN  66 134\nBF/B  67 Failed\nBIIB  68 134\nBK  69 134\nBKNG  70 134\nBKR  71 84\nBLK  72 134\nBLL  73 134\nBMY  74 134\nBR  75 134\nBRK/B  76 Failed\nBSX  77 134\nBWA  78 134\nBXP  79 134\nC  80 134\nCAG  81 134\nCAH  82 134\nCAT  83 134\nCB  84 134\nCBOE  85 134\nCBRE  86 134\nCBS  87 134\nCCI  88 134\nCCL  89 134\nCDNS  90 134\nCDW  91 134\nCE  92 134\nCELG  93 134\nCERN  94 134\nCF  95 134\nCFG  96 134\nCHD  97 134\nCHRW  98 134\nCHTR  99 134\nCI  100 134\nCINF  101 134\nCL  102 134\nCLX  103 134\nCMA  104 134\nCMCSA  105 134\nCME  106 134\nCMG  107 134\nCMI  108 134\nCMS  109 134\nCNC  110 134\nCNP  111 134\nCOF  112 134\nCOG  113 134\nCOO  114 134\nCOP  115 134\nCOST  116 134\nCOTY  117 134\nCPB  118 134\nCPRI  119 134\nCPRT  120 134\nCRM  121 134\nCSCO  122 134\nCSX  123 134\nCTAS  124 134\nCTL  125 134\nCTSH  126 134\nCTVA  127 0\nCTXS  128 134\nCVS  129 134\nCVX  130 134\nCXO  131 134\nD  132 134\nDAL  133 134\nDD  134 134\nDE  135 134\nDFS  136 134\nDG  137 134\nDGX  138 134\nDHI  139 134\nDHR  140 134\nDIS  141 134\nDISCA  142 134\nDISCK  143 134\nDISH  144 134\nDLR  145 134\nDLTR  146 134\nDOV  147 134\nDOW  148 0\nDRE  149 134\nDRI  150 134\nDTE  151 134\nDUK  152 134\nDVA  153 134\nDVN  154 134\nDXC  155 134\nEA  156 134\nEBAY  157 134\nECL  158 134\nED  159 134\nEFX  160 134\nEIX  161 134\nEL  162 134\nEMN  163 134\nEMR  164 134\nEOG  165 134\nEQIX  166 134\nEQR  167 134\nES  168 134\nESS  169 134\nETFC  170 134\nETN  171 134\nETR  172 134\nEVRG  173 134\nEW  174 134\nEXC  175 134\nEXPD  176 134\nEXPE  177 134\nEXR  178 134\nF  179 134\nFANG  180 134\nFAST  181 134\nFB  182 134\nFBHS  183 134\nFCX  184 134\nFDX  185 134\nFE  186 134\nFFIV  187 134\nFIS  188 134\nFISV  189 134\nFITB  190 134\nFLIR  191 134\nFLS  192 134\nFLT  193 134\nFMC  194 134\nFOX  195 0\nFOXA  196 0\nFRC  197 134\nFRT  198 134\nFTI  199 134\nFTNT  200 134\nFTV  201 134\nGD  202 134\nGE  203 134\nGILD  204 134\nGIS  205 134\nGL  206 134\nGLW  207 134\nGM  208 134\nGOOG  209 134\nGOOGL  210 134\nGPC  211 134\nGPN  212 134\nGPS  213 134\nGRMN  214 134\nGS  215 134\nGWW  216 134\nHAL  217 134\nHAS  218 134\nHBAN  219 134\nHBI  220 134\nHCA  221 134\nHD  222 134\nHES  223 134\nHFC  224 134\nHIG  225 134\nHII  226 134\nHLT  227 134\nHOG  228 134\nHOLX  229 134\nHON  230 134\nHP  231 134\nHPE  232 134\nHPQ  233 134\nHRB  234 134\nHRL  235 134\nHSIC  236 134\nHST  237 134\nHSY  238 134\nHUM  239 134\nIBM  240 134\nICE  241 134\nIDXX  242 134\nIEX  243 134\nIFF  244 134\nILMN  245 134\nINCY  246 134\nINFO  247 134\nINTC  248 134\nINTU  249 134\nIP  250 134\nIPG  251 134\nIPGP  252 134\nIQV  253 134\nIR  254 134\nIRM  255 134\nISRG  256 134\nIT  257 134\nITW  258 134\nIVZ  259 134\nJBHT  260 134\nJCI  261 134\nJEC  262 134\nJKHY  263 134\nJNJ  264 134\nJNPR  265 134\nJPM  266 134\nJWN  267 134\nK  268 134\nKEY  269 134\nKEYS  270 134\nKHC  271 134\nKIM  272 134\nKLAC  273 134\nKMB  274 134\nKMI  275 134\nKMX  276 134\nKO  277 134\nKR  278 134\nKSS  279 134\nKSU  280 134\nL  281 134\nLB  282 134\nLDOS  283 134\nLEG  284 134\nLEN  285 134\nLH  286 134\nLHX  287 134\nLIN  288 134\nLKQ  289 134\nLLY  290 134\nLMT  291 134\nLNC  292 134\nLNT  293 134\nLOW  294 134\nLRCX  295 134\nLUV  296 134\nLVS  297 134\nLW  298 134\nLYB  299 134\nM  300 134\nMA  301 134\nMAA  302 134\nMAC  303 134\nMAR  304 134\nMAS  305 134\nMCD  306 134\nMCHP  307 134\nMCK  308 134\nMCO  309 134\nMDLZ  310 134\nMDT  311 134\nMET  312 134\nMGM  313 134\nMHK  314 134\nMKC  315 134\nMKTX  316 134\nMLM  317 134\nMMC  318 134\nMMM  319 134\nMNST  320 134\nMO  321 134\nMOS  322 134\nMPC  323 134\nMRK  324 134\nMRO  325 134\nMS  326 134\nMSCI  327 134\nMSFT  328 134\nMSI  329 134\nMTB  330 134\nMTD  331 134\nMU  332 134\nMXIM  333 134\nMYL  334 134\nNBL  335 134\nNCLH  336 134\nNDAQ  337 134\nNEE  338 134\nNEM  339 134\nNFLX  340 134\nNI  341 134\nNKE  342 134\nNLOK  343 0\nNLSN  344 134\nNOC  345 134\nNOV  346 134\nNRG  347 134\nNSC  348 134\nNTAP  349 134\nNTRS  350 134\nNUE  351 134\nNVDA  352 134\nNVR  353 134\nNWL  354 134\nNWS  355 134\nNWSA  356 134\nO  357 134\nOKE  358 134\nOMC  359 134\nORCL  360 134\nORLY  361 134\nOXY  362 134\nPAYX  363 134\nPBCT  364 134\nPCAR  365 134\nPEAK  366 134\nPEG  367 134\nPEP  368 134\nPFE  369 134\nPFG  370 134\nPG  371 134\nPGR  372 134\nPH  373 134\nPHM  374 134\nPKG  375 134\nPKI  376 134\nPLD  377 134\nPM  378 134\nPNC  379 134\nPNR  380 134\nPNW  381 134\nPPG  382 134\nPPL  383 134\nPRGO  384 134\nPRU  385 134\nPSA  386 134\nPSX  387 134\nPVH  388 134\nPWR  389 134\nPXD  390 134\nPYPL  391 134\nQCOM  392 134\nQRVO  393 134\nRCL  394 134\nRE  395 134\nREG  396 134\nREGN  397 134\nRF  398 134\nRHI  399 134\nRJF  400 134\nRL  401 134\nRMD  402 134\nROK  403 134\nROL  404 134\nROP  405 134\nROST  406 134\nRSG  407 134\nRTN  408 134\nSBAC  409 134\nSBUX  410 134\nSCHW  411 134\nSEE  412 134\nSHW  413 134\nSIVB  414 134\nSJM  415 134\nSLB  416 134\nSLG  417 134\nSNA  418 134\nSNPS  419 134\nSO  420 134\nSPG  421 134\nSPGI  422 134\nSRE  423 134\nSTI  424 134\nSTT  425 134\nSTX  426 134\nSTZ  427 134\nSWK  428 134\nSWKS  429 134\nSYF  430 134\nSYK  431 134\nSYY  432 134\nT  433 134\nTAP  434 134\nTDG  435 134\nTEL  436 134\nTFX  437 134\nTGT  438 134\nTIF  439 134\nTJX  440 134\nTMO  441 134\nTMUS  442 134\nTPR  443 134\nTRIP  444 134\nTROW  445 134\nTRV  446 134\nTSCO  447 134\nTSN  448 134\nTTWO  449 134\nTWTR  450 134\nTXN  451 134\nTXT  452 134\nUA  453 134\nUAA  454 134\nUAL  455 134\nUDR  456 134\nUHS  457 134\nULTA  458 134\nUNH  459 134\nUNM  460 134\nUNP  461 134\nUPS  462 134\nURI  463 134\nUSB  464 134\nUTX  465 134\nV  466 134\nVAR  467 134\nVFC  468 134\nVIAB  469 134\nVLO  470 134\nVMC  471 134\nVNO  472 134\nVRSK  473 134\nVRSN  474 134\nVRTX  475 134\nVTR  476 134\nVZ  477 134\nWAB  478 134\nWAT  479 134\nWBA  480 134\nWCG  481 134\nWDC  482 134\nWEC  483 134\nWELL  484 134\nWFC  485 134\nWHR  486 134\nWLTW  487 134\nWM  488 134\nWMB  489 134\nWMT  490 134\nWRK  491 134\nWU  492 134\nWY  493 134\nWYNN  494 134\nXEC  495 134\nXEL  496 134\nXLNX  497 134\nXOM  498 134\nXRAY  499 134\nXRX  500 134\nXYL  501 134\nYUM  502 134\nZBH  503 134\nZION  504 134\nZTS  505 134\n"
        }
      ],
      "source": [
        "import pandas as pd\n",
        "import numpy as np\n",
        "import sys\n",
        "from yahoo_finance_api2 import share\n",
        "from yahoo_finance_api2.exceptions import YahooFinanceError\n",
        "from datetime import datetime\n",
        "\n",
        "# Define the downloader\n",
        "def dataloader(stock_name,\n",
        "              start = '1995-01-01 01:00:00',\n",
        "              end = '2018-12-31 04:00:00',verbose = True):\n",
        "\n",
        "  my_share = share.Share(stock_name)\n",
        "  symbol_data = None\n",
        "\n",
        "  try:\n",
        "      symbol_data = my_share.get_historical(share.PERIOD_TYPE_YEAR,30,\n",
        "                                            share.FREQUENCY_TYPE_DAY,1)\n",
        "      if verbose:\n",
        "        print(stock_name+\" has been downloaded\")\n",
        "      \n",
        "  except YahooFinanceError as e:\n",
        "      print(e.message)\n",
        "      sys.exit(1)\n",
        "  df = pd.DataFrame(symbol_data)\n",
        "  \n",
        "  df['timestamp'] = [datetime.fromtimestamp(t/1000) for t in df['timestamp']]\n",
        "\n",
        "  # test = df[(df['timestamp'] >= '2016-1-1 01:00:00') & (df['timestamp'] <= '2018-12-31 04:00:00')]\n",
        "  return df[(df['timestamp'] >= start) & (df['timestamp'] <= end)]\n",
        "\n",
        "# Running the downloader\n",
        "dat_comp_train = pd.read_csv(\"./data/train.csv\")\n",
        "stock_lst = [s.strip(\"\\n\") for s in list(dat_comp_train.keys() )]\n",
        "stock_lst.pop(0)\n",
        "stock_lst.pop()\n",
        "test = {}\n",
        "for i,stock_name in enumerate(stock_lst,0):\n",
        "    # if i> 2: break\n",
        "    try:\n",
        "        df = dataloader(stock_name,start = '2018-01-01 01:00:00', end = '2018-07-16 04:00:00',verbose = False).copy()\n",
        "        print(stock_name,i+1, len(df))\n",
        "        if len(df) == 134:\n",
        "            test[str(stock_name)] = list(df['close'])\n",
        "    except:\n",
        "        print(stock_name, i+1, \"Failed\")\n",
        "\n",
        "pd.DataFrame(test).to_csv(\"./data/test.csv\", index = False)\n"
      ]
    },
    {
      "cell_type": "markdown",
      "execution_count": 11,
      "metadata": {},
      "outputs": [
        {
          "ename": "SyntaxError",
          "evalue": "invalid syntax (<ipython-input-11-4a26b064335a>, line 1)",
          "output_type": "error",
          "traceback": [
            "\u001b[0;36m  File \u001b[0;32m\"<ipython-input-11-4a26b064335a>\"\u001b[0;36m, line \u001b[0;32m1\u001b[0m\n\u001b[0;31m    The 2<sup>nd</sup> hack: distribute money over all the positive stock on that day and sell short on every stock\u001b[0m\n\u001b[0m        ^\u001b[0m\n\u001b[0;31mSyntaxError\u001b[0m\u001b[0;31m:\u001b[0m invalid syntax\n"
          ]
        }
      ],
      "source": [
        "The 2<sup>nd</sup> hack: distribute money over all the positive stock on that day and sell short on every stock"
      ]
    },
    {
      "cell_type": "code",
      "execution_count": 0,
      "metadata": {
        "colab": {},
        "colab_type": "code",
        "id": "uDbtpT3zERMQ"
      },
      "outputs": [],
      "source": [
        "\n",
        "dat = pd.read_csv(\"./data/test.csv\")\n",
        "target = pd.read_csv(\"./data/sample_submission.csv\")\n",
        "target.drop(columns=['Predicted'], inplace= True)\n",
        "res = ( (dat - dat.shift(periods= 1 , fill_value= 0))/dat )\n",
        "\n",
        "id_lst,pred_lst = [], []\n",
        "\n",
        "for i, row in res.iterrows():\n",
        "    if i == 0: continue\n",
        "    row_lst = list(row)\n",
        "    name_lst = list(row.keys() )\n",
        "\n",
        "    S_pos = sum(r for r in row_lst if r>0)\n",
        "    S_neg = sum(r for r in row_lst if r<0)\n",
        "\n",
        "    id_lst += [str(i-1)+'_'+name for name in name_lst]\n",
        "    pred_lst += [r/S_pos if r >0 else r/abs(S_neg) for r in row_lst]\n",
        "    # pred_lst += [r/S_pos if r >0 else 0 for r in row_lst]\n",
        "target2 = pd.DataFrame({'Id':id_lst, 'Predicted':pred_lst})\n",
        "target = target.merge(target2, on = \"Id\",how = 'left')\n",
        "target.fillna(0, inplace= True)\n",
        "target['Id'] = target['Id'].apply(lambda id: id.split(\" \")[0])\n",
        "target.to_csv(\"submission_2.csv\",index = False)"
      ]
    },
    {
      "cell_type": "markdown",
      "execution_count": null,
      "metadata": {},
      "outputs": [],
      "source": [
        "## Main Methods"
      ]
    },
    {
      "cell_type": "code",
      "execution_count": 14,
      "metadata": {},
      "outputs": [],
      "source": [
        "dat = pd.read_csv(\"./data/test.csv\")"
      ]
    },
    {
      "cell_type": "code",
      "execution_count": 45,
      "metadata": {},
      "outputs": [
        {
          "data": {
            "text/plain": "{'A ': 0.0,\n 'AAL ': 0.0,\n 'AAP ': 0.0,\n 'AAPL ': 0.0,\n 'ABBV ': 0.0,\n 'ABC ': 0.0,\n 'ABMD ': 0.23127,\n 'ABT ': 0.0,\n 'ACN ': 0.0,\n 'ADBE ': 0.0,\n 'ADI ': 0.0,\n 'ADM ': 0.0,\n 'ADP ': 0.0,\n 'ADS ': 0.0,\n 'ADSK ': 0.0,\n 'AEE ': 0.0,\n 'AEP ': 0.0,\n 'AES ': 0.0,\n 'AFL ': 0.0,\n 'AGN ': 0.0,\n 'AIG ': 0.0,\n 'AIV ': 0.0,\n 'AIZ ': 0.0,\n 'AJG ': 0.0,\n 'AKAM ': 0.0,\n 'ALB ': 0.0,\n 'ALGN ': 0.0,\n 'ALK ': 0.0,\n 'ALL ': 0.0,\n 'ALLE ': 0.0,\n 'ALXN ': 0.0,\n 'AMAT ': 0.0,\n 'AMCR ': 0.0,\n 'AMD ': 0.0,\n 'AME ': 0.0,\n 'AMG ': 0.0,\n 'AMGN ': 0.0,\n 'AMP ': 0.0,\n 'AMT ': 0.0,\n 'AMZN ': 0.0,\n 'ANET ': 0.0,\n 'ANSS ': 0.0,\n 'ANTM ': 0.0,\n 'AON ': 0.0,\n 'AOS ': 0.0,\n 'APA ': 0.0,\n 'APD ': 0.0,\n 'APH ': 0.0,\n 'APTV ': 0.0,\n 'ARE ': 0.0,\n 'ARNC ': 0.0,\n 'ATO ': 0.0,\n 'ATVI ': 0.0,\n 'AVB ': 0.0,\n 'AVGO ': 0.0,\n 'AVY ': 0.0,\n 'AWK ': 0.0,\n 'AXP ': 0.0,\n 'AZO ': 0.0,\n 'BA ': 0.0,\n 'BAC ': 0.0,\n 'BAX ': 0.0,\n 'BBT ': 0.0,\n 'BBY ': 0.0,\n 'BDX ': 0.0,\n 'BEN ': 0.0,\n 'BIIB ': 0.0,\n 'BK ': 0.0,\n 'BKNG ': 0.0,\n 'BLK ': 0.0,\n 'BLL ': 0.0,\n 'BMY ': 0.0,\n 'BR ': 0.0,\n 'BSX ': 0.0,\n 'BWA ': 0.0,\n 'BXP ': 0.0,\n 'C ': 0.0,\n 'CAG ': 0.0,\n 'CAH ': 0.0,\n 'CAT ': 0.0,\n 'CB ': 0.0,\n 'CBOE ': 0.0,\n 'CBRE ': 0.0,\n 'CBS ': 0.0,\n 'CCI ': 0.0,\n 'CCL ': 0.0,\n 'CDNS ': 0.0,\n 'CDW ': 0.0,\n 'CE ': 0.0,\n 'CELG ': 0.0,\n 'CERN ': 0.0,\n 'CF ': 0.0,\n 'CFG ': 0.0,\n 'CHD ': 0.0,\n 'CHRW ': 0.0,\n 'CHTR ': 0.0,\n 'CI ': 0.0,\n 'CINF ': 0.0,\n 'CL ': 0.0,\n 'CLX ': 0.0,\n 'CMA ': 0.0,\n 'CMCSA ': 0.0,\n 'CME ': 0.0,\n 'CMG ': 0.02618,\n 'CMI ': 0.0,\n 'CMS ': 0.0,\n 'CNC ': 0.0,\n 'CNP ': 0.0,\n 'COF ': 0.0,\n 'COG ': 0.0,\n 'COO ': 0.0,\n 'COP ': 0.0,\n 'COST ': 0.0,\n 'COTY ': 0.0,\n 'CPB ': 0.0,\n 'CPRI ': 0.0,\n 'CPRT ': 0.0,\n 'CRM ': 0.0,\n 'CSCO ': 0.0,\n 'CSX ': 0.0,\n 'CTAS ': 0.0,\n 'CTL ': 0.0,\n 'CTSH ': 0.0,\n 'CTXS ': 0.0,\n 'CVS ': 0.0,\n 'CVX ': 0.0,\n 'CXO ': 0.0,\n 'D ': 0.0,\n 'DAL ': 0.0,\n 'DD ': 0.0,\n 'DE ': 0.0,\n 'DFS ': 0.0,\n 'DG ': 0.0,\n 'DGX ': 0.0,\n 'DHI ': 0.0,\n 'DHR ': 0.0,\n 'DIS ': 0.0,\n 'DISCA ': 0.0,\n 'DISCK ': 0.0,\n 'DISH ': 0.0,\n 'DLR ': 0.0,\n 'DLTR ': 0.0,\n 'DOV ': 0.0,\n 'DRE ': 0.0,\n 'DRI ': 0.0,\n 'DTE ': 0.0,\n 'DUK ': 0.0,\n 'DVA ': 0.0,\n 'DVN ': 0.0,\n 'DXC ': 0.0,\n 'EA ': 0.0,\n 'EBAY ': 0.0,\n 'ECL ': 0.0,\n 'ED ': 0.0,\n 'EFX ': 0.0,\n 'EIX ': 0.0,\n 'EL ': 0.0,\n 'EMN ': 0.0,\n 'EMR ': 0.0,\n 'EOG ': 0.0,\n 'EQIX ': 0.0,\n 'EQR ': 0.0,\n 'ES ': 0.0,\n 'ESS ': 0.0,\n 'ETFC ': 0.0,\n 'ETN ': 0.0,\n 'ETR ': 0.0,\n 'EVRG ': 0.0,\n 'EW ': 0.0,\n 'EXC ': 0.0,\n 'EXPD ': 0.0,\n 'EXPE ': 0.0,\n 'EXR ': 0.0,\n 'F ': 0.0,\n 'FANG ': 0.0,\n 'FAST ': 0.0,\n 'FB ': 0.0,\n 'FBHS ': 0.0,\n 'FCX ': 0.0,\n 'FDX ': 0.0,\n 'FE ': 0.12163,\n 'FFIV ': 0.0,\n 'FIS ': 0.0,\n 'FISV ': 0.0,\n 'FITB ': 0.0,\n 'FLIR ': 0.0,\n 'FLS ': 0.0,\n 'FLT ': 0.0,\n 'FMC ': 0.0,\n 'FRC ': 0.0,\n 'FRT ': 0.0,\n 'FTI ': 0.0,\n 'FTNT ': 0.08237,\n 'FTV ': 0.0,\n 'GD ': 0.0,\n 'GE ': 0.0,\n 'GILD ': 0.0,\n 'GIS ': 0.0,\n 'GL ': 0.0,\n 'GLW ': 0.0,\n 'GM ': 0.0,\n 'GOOG ': 0.0,\n 'GOOGL ': 0.0,\n 'GPC ': 0.0,\n 'GPN ': 0.0,\n 'GPS ': 0.0,\n 'GRMN ': 0.0,\n 'GS ': 0.0,\n 'GWW ': 0.01338,\n 'HAL ': 0.0,\n 'HAS ': 0.0,\n 'HBAN ': 0.0,\n 'HBI ': 0.0,\n 'HCA ': 0.0,\n 'HD ': 0.0,\n 'HES ': 0.0,\n 'HFC ': 0.00124,\n 'HIG ': 0.0,\n 'HII ': 0.0,\n 'HLT ': 0.0,\n 'HOG ': 0.0,\n 'HOLX ': 0.0,\n 'HON ': 0.0,\n 'HP ': 0.0,\n 'HPE ': 0.0,\n 'HPQ ': 0.0,\n 'HRB ': 0.0,\n 'HRL ': 0.0,\n 'HSIC ': 0.0,\n 'HST ': 0.0,\n 'HSY ': 0.0,\n 'HUM ': 0.20106,\n 'IBM ': 0.0,\n 'ICE ': 0.0,\n 'IDXX ': 0.0,\n 'IEX ': 0.0,\n 'IFF ': 0.0,\n 'ILMN ': 0.0,\n 'INCY ': 0.0,\n 'INFO ': 0.0,\n 'INTC ': 0.0,\n 'INTU ': 0.0,\n 'IP ': 0.0,\n 'IPG ': 0.0,\n 'IPGP ': 0.0,\n 'IQV ': 0.0,\n 'IR ': 0.0,\n 'IRM ': 0.0,\n 'ISRG ': 0.0,\n 'IT ': 0.0,\n 'ITW ': 0.0,\n 'IVZ ': 0.0,\n 'JBHT ': 0.0,\n 'JCI ': 0.0,\n 'JEC ': 0.0,\n 'JKHY ': 0.0,\n 'JNJ ': 0.0,\n 'JNPR ': 0.0,\n 'JPM ': 0.0,\n 'JWN ': 0.0,\n 'K ': 0.0,\n 'KEY ': 0.0,\n 'KEYS ': 0.0,\n 'KHC ': 0.0,\n 'KIM ': 0.0,\n 'KLAC ': 0.0,\n 'KMB ': 0.0,\n 'KMI ': 0.0,\n 'KMX ': 0.0,\n 'KO ': 0.0,\n 'KR ': 0.0,\n 'KSS ': 0.0,\n 'KSU ': 0.0,\n 'L ': 0.0,\n 'LB ': 0.0,\n 'LDOS ': 0.0,\n 'LEG ': 0.0,\n 'LEN ': 0.0,\n 'LH ': 0.0,\n 'LHX ': 0.0,\n 'LIN ': 0.0,\n 'LKQ ': 0.0,\n 'LLY ': 0.0,\n 'LMT ': 0.0,\n 'LNC ': 0.0,\n 'LNT ': 0.0,\n 'LOW ': 0.0,\n 'LRCX ': 0.0,\n 'LUV ': 0.0,\n 'LVS ': 0.0,\n 'LW ': 0.04439,\n 'LYB ': 0.0,\n 'M ': 0.01637,\n 'MA ': 0.0,\n 'MAA ': 0.0,\n 'MAC ': 0.0,\n 'MAR ': 0.0,\n 'MAS ': 0.0,\n 'MCD ': 0.0,\n 'MCHP ': 0.0,\n 'MCK ': 0.0,\n 'MCO ': 0.0,\n 'MDLZ ': 0.0,\n 'MDT ': 0.0,\n 'MET ': 0.0,\n 'MGM ': 0.0,\n 'MHK ': 0.0,\n 'MKC ': 0.0,\n 'MKTX ': 0.0,\n 'MLM ': 0.0,\n 'MMC ': 0.0,\n 'MMM ': 0.0,\n 'MNST ': 0.0,\n 'MO ': 0.0,\n 'MOS ': 0.0,\n 'MPC ': 0.0,\n 'MRK ': 0.0,\n 'MRO ': 0.0,\n 'MS ': 0.0,\n 'MSCI ': 0.0,\n 'MSFT ': 0.0,\n 'MSI ': 0.08298,\n 'MTB ': 0.0,\n 'MTD ': 0.0,\n 'MU ': 0.0,\n 'MXIM ': 0.0,\n 'MYL ': 0.0,\n 'NBL ': 0.0,\n 'NCLH ': 0.0,\n 'NDAQ ': 0.0,\n 'NEE ': 0.0,\n 'NEM ': 0.0,\n 'NFLX ': 0.03481,\n 'NI ': 0.0,\n 'NKE ': 0.0,\n 'NLSN ': 0.0,\n 'NOC ': 0.0,\n 'NOV ': 0.0,\n 'NRG ': 0.0,\n 'NSC ': 0.0,\n 'NTAP ': 0.0,\n 'NTRS ': 0.0,\n 'NUE ': 0.0,\n 'NVDA ': 0.0,\n 'NVR ': 0.0,\n 'NWL ': 0.0,\n 'NWS ': 0.0,\n 'NWSA ': 0.0,\n 'O ': 0.0,\n 'OKE ': 0.00598,\n 'OMC ': 0.0,\n 'ORCL ': 0.0,\n 'ORLY ': 0.0,\n 'OXY ': 0.0,\n 'PAYX ': 0.0,\n 'PBCT ': 0.0,\n 'PCAR ': 0.0,\n 'PEAK ': 0.0,\n 'PEG ': 0.0,\n 'PEP ': 0.0,\n 'PFE ': 0.0,\n 'PFG ': 0.0,\n 'PG ': 0.0,\n 'PGR ': 0.0,\n 'PH ': 0.0,\n 'PHM ': 0.0,\n 'PKG ': 0.0,\n 'PKI ': 0.0,\n 'PLD ': 0.0,\n 'PM ': 0.0,\n 'PNC ': 0.0,\n 'PNR ': 0.0,\n 'PNW ': 0.0,\n 'PPG ': 0.0,\n 'PPL ': 0.0,\n 'PRGO ': 0.0,\n 'PRU ': 0.0,\n 'PSA ': 0.0,\n 'PSX ': 0.0,\n 'PVH ': 0.0,\n 'PWR ': 0.0,\n 'PXD ': 0.0,\n 'PYPL ': 0.0,\n 'QCOM ': 0.0,\n 'QRVO ': 0.0,\n 'RCL ': 0.0,\n 'RE ': 0.0,\n 'REG ': 0.0,\n 'REGN ': 0.0,\n 'RF ': 0.0,\n 'RHI ': 0.0,\n 'RJF ': 0.0,\n 'RL ': 0.0,\n 'RMD ': 0.0,\n 'ROK ': 0.0,\n 'ROL ': 0.0,\n 'ROP ': 0.0,\n 'ROST ': 0.0,\n 'RSG ': 0.0,\n 'RTN ': 0.0,\n 'SBAC ': 0.0,\n 'SBUX ': 0.0,\n 'SCHW ': 0.0,\n 'SEE ': 0.0,\n 'SHW ': 0.0,\n 'SIVB ': 0.0,\n 'SJM ': 0.0,\n 'SLB ': 0.0,\n 'SLG ': 0.0,\n 'SNA ': 0.0,\n 'SNPS ': 0.0,\n 'SO ': 0.0,\n 'SPG ': 0.0,\n 'SPGI ': 0.0,\n 'SRE ': 0.01119,\n 'STI ': 0.0,\n 'STT ': 0.0,\n 'STX ': 0.0,\n 'STZ ': 0.0,\n 'SWK ': 0.0,\n 'SWKS ': 0.0,\n 'SYF ': 0.0,\n 'SYK ': 0.0,\n 'SYY ': 0.0,\n 'T ': 0.0,\n 'TAP ': 0.0,\n 'TDG ': 0.02923,\n 'TEL ': 0.0,\n 'TFX ': 0.0,\n 'TGT ': 0.0,\n 'TIF ': 0.0,\n 'TJX ': 0.00981,\n 'TMO ': 0.0,\n 'TMUS ': 0.0,\n 'TPR ': 0.0,\n 'TRIP ': 0.04115,\n 'TROW ': 0.0,\n 'TRV ': 0.0,\n 'TSCO ': 0.0,\n 'TSN ': 0.0,\n 'TTWO ': 0.0,\n 'TWTR ': 0.04697,\n 'TXN ': 0.0,\n 'TXT ': 0.0,\n 'UA ': 0.0,\n 'UAA ': 0.0,\n 'UAL ': 0.0,\n 'UDR ': 0.0,\n 'UHS ': 0.0,\n 'ULTA ': 0.0,\n 'UNH ': 0.0,\n 'UNM ': 0.0,\n 'UNP ': 0.0,\n 'UPS ': 0.0,\n 'URI ': 0.0,\n 'USB ': 0.0,\n 'UTX ': 0.0,\n 'V ': 0.0,\n 'VAR ': 0.0,\n 'VFC ': 0.0,\n 'VIAB ': 0.0,\n 'VLO ': 0.0,\n 'VMC ': 0.0,\n 'VNO ': 0.0,\n 'VRSK ': 0.0,\n 'VRSN ': 0.0,\n 'VRTX ': 0.0,\n 'VTR ': 0.0,\n 'VZ ': 0.0,\n 'WAB ': 0.0,\n 'WAT ': 0.0,\n 'WBA ': 0.0,\n 'WCG ': 0.0,\n 'WDC ': 0.0,\n 'WEC ': 0.0,\n 'WELL ': 0.0,\n 'WFC ': 0.0,\n 'WHR ': 0.0,\n 'WLTW ': 0.0,\n 'WM ': 0.0,\n 'WMB ': 0.0,\n 'WMT ': 0.0,\n 'WRK ': 0.0,\n 'WU ': 0.0,\n 'WY ': 0.0,\n 'WYNN ': 0.0,\n 'XEC ': 0.0,\n 'XEL ': 0.0,\n 'XLNX ': 0.0,\n 'XOM ': 0.0,\n 'XRAY ': 0.0,\n 'XRX ': 0.0,\n 'XYL ': 0.0,\n 'YUM ': 0.0,\n 'ZBH ': 0.0,\n 'ZION ': 0.0,\n 'ZTS ': 0.0}"
          },
          "execution_count": 45,
          "metadata": {},
          "output_type": "execute_result"
        }
      ],
      "source": [
        "cleaned_weights"
      ]
    },
    {
      "cell_type": "code",
      "execution_count": null,
      "metadata": {},
      "outputs": [],
      "source": []
    }
  ]
}